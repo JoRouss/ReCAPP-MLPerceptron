{
 "cells": [
  {
   "cell_type": "markdown",
   "id": "2474d2cd",
   "metadata": {},
   "source": [
    "# Chargement des données"
   ]
  },
  {
   "cell_type": "code",
   "execution_count": 15,
   "id": "708ab524",
   "metadata": {},
   "outputs": [
    {
     "name": "stdout",
     "output_type": "stream",
     "text": [
      "dict_keys(['filenames', 'target_names', 'target', 'DESCR'])\n",
      "done!\n"
     ]
    }
   ],
   "source": [
    "import numpy\n",
    "from PIL import Image\n",
    "from sklearn import datasets\n",
    "\n",
    "image_path = \"../data/processed\"\n",
    "# Charge la structure, mais pas les images. Nous allons devoir les redimensionner uniformément\n",
    "recapp_dataset = datasets.load_files(image_path, load_content=False)\n",
    "\n",
    "# Affichage de la structure\n",
    "print(recapp_dataset.keys())\n",
    "\n",
    "# Taille des images voulues\n",
    "uniformized_image_size = 64\n",
    "\n",
    "# On recrée la clé 'data'\n",
    "recapp_dataset['data'] = []\n",
    "for image_path in recapp_dataset['filenames']:\n",
    "    with Image.open(image_path) as im: # Ouverture de l'image\n",
    "        resized = im.resize((uniformized_image_size, uniformized_image_size)) # Redimension\n",
    "        image_as_array = numpy.asarray(resized).reshape(-1) # Conversion en 1 seul vecteur de couleurs\n",
    "        recapp_dataset['data'].append(image_as_array) # Ajout à la liste de 'data'\n",
    "\n",
    "# On crée des raccourcis pour rendre le code plus lisible et facile à écrire\n",
    "data = recapp_dataset['data']\n",
    "labels = recapp_dataset['target']\n",
    "\n",
    "print(\"done!\")"
   ]
  },
  {
   "cell_type": "markdown",
   "id": "f11a2541",
   "metadata": {},
   "source": [
    "# Multi-Layer Perceptron"
   ]
  },
  {
   "cell_type": "code",
   "execution_count": 16,
   "id": "e672c580",
   "metadata": {},
   "outputs": [
    {
     "name": "stdout",
     "output_type": "stream",
     "text": [
      "Iteration 1, loss = 21.32851814\n",
      "Iteration 2, loss = 16.00124376\n",
      "Iteration 3, loss = 10.57545814\n",
      "Iteration 4, loss = 7.04507076\n",
      "Iteration 5, loss = 5.48238297\n",
      "Iteration 6, loss = 4.86843642\n",
      "Iteration 7, loss = 4.58862358\n",
      "Iteration 8, loss = 4.41762794\n",
      "Iteration 9, loss = 4.30978968\n",
      "Iteration 10, loss = 4.20851444\n",
      "Iteration 11, loss = 4.13081305\n",
      "Iteration 12, loss = 4.05331794\n"
     ]
    },
    {
     "name": "stderr",
     "output_type": "stream",
     "text": [
      "c:\\users\\jorouss\\documents\\ia\\projet recapp\\recapp_environnement\\lib\\site-packages\\sklearn\\neural_network\\_multilayer_perceptron.py:617: ConvergenceWarning: Stochastic Optimizer: Maximum iterations (12) reached and the optimization hasn't converged yet.\n",
      "  % self.max_iter, ConvergenceWarning)\n"
     ]
    },
    {
     "data": {
      "text/plain": [
       "<AxesSubplot:>"
      ]
     },
     "execution_count": 16,
     "metadata": {},
     "output_type": "execute_result"
    },
    {
     "data": {
      "image/png": "[encoded data removed]",
      "text/plain": [
       "<Figure size 432x288 with 1 Axes>"
      ]
     },
     "metadata": {
      "needs_background": "light"
     },
     "output_type": "display_data"
    }
   ],
   "source": [
    "from sklearn.neural_network import MLPClassifier\n",
    "import pandas as pd\n",
    "\n",
    "nn = MLPClassifier(random_state=42, hidden_layer_sizes=(50,25), learning_rate_init=0.0000003, max_iter=12, verbose=2)\n",
    "\n",
    "nn.fit(data, labels)\n",
    "\n",
    "pd.DataFrame(nn.loss_curve_)[3:].plot()"
   ]
  },
  {
   "cell_type": "markdown",
   "id": "d75a25ca",
   "metadata": {},
   "source": [
    "# Matrice de confusion"
   ]
  },
  {
   "cell_type": "code",
   "execution_count": 17,
   "id": "dc0e1c41",
   "metadata": {},
   "outputs": [
    {
     "data": {
      "text/plain": [
       "<sklearn.metrics._plot.confusion_matrix.ConfusionMatrixDisplay at 0x21743981d30>"
      ]
     },
     "execution_count": 17,
     "metadata": {},
     "output_type": "execute_result"
    },
    {
     "data": {
      "image/png": "[encoded data removed]",
      "text/plain": [
       "<Figure size 432x288 with 2 Axes>"
      ]
     },
     "metadata": {
      "needs_background": "light"
     },
     "output_type": "display_data"
    }
   ],
   "source": [
    "import sklearn.metrics as metrics\n",
    "\n",
    "metrics.plot_confusion_matrix(nn, data, labels)"
   ]
  },
  {
   "cell_type": "markdown",
   "id": "60d2eea2",
   "metadata": {},
   "source": [
    "# Sur échantillonnage des éperlans"
   ]
  },
  {
   "cell_type": "markdown",
   "id": "7d10c3ba",
   "metadata": {},
   "source": [
    "## Séparation par classe"
   ]
  },
  {
   "cell_type": "code",
   "execution_count": 18,
   "id": "09f435c7",
   "metadata": {},
   "outputs": [
    {
     "name": "stdout",
     "output_type": "stream",
     "text": [
      "Lancons: 7494 Éperlans: 1117\n"
     ]
    }
   ],
   "source": [
    "data_lancons = []\n",
    "data_eperlans = []\n",
    "labels_lancons = []\n",
    "labels_eperlans = []\n",
    "\n",
    "for i in range(len(data)):\n",
    "    current_label = labels[i]\n",
    "    current_data = data[i]\n",
    "    if current_label == 0:\n",
    "        data_lancons.append(current_data)\n",
    "        labels_lancons.append(current_label)\n",
    "    elif current_label == 1:\n",
    "        data_eperlans.append(current_data)\n",
    "        labels_eperlans.append(current_label)\n",
    "    else:\n",
    "        print(\"Invalid class\")\n",
    "    \n",
    "print(\"Lancons:\", len(data_lancons), \"Éperlans:\", len(data_eperlans))"
   ]
  },
  {
   "cell_type": "markdown",
   "id": "1f4fa32b",
   "metadata": {},
   "source": [
    "## Sklearn resample"
   ]
  },
  {
   "cell_type": "code",
   "execution_count": 19,
   "id": "52586780",
   "metadata": {},
   "outputs": [
    {
     "name": "stdout",
     "output_type": "stream",
     "text": [
      "Images total: 14988\n"
     ]
    }
   ],
   "source": [
    "from sklearn.utils import resample\n",
    "\n",
    "(data_eperlans_upsampled, labels_eperlans_upsampled) = resample(data_eperlans, labels_eperlans, n_samples=len(data_lancons), random_state=42)\n",
    "\n",
    "data_balanced = data_lancons + data_eperlans_upsampled\n",
    "labels_balanced = labels_lancons + labels_eperlans_upsampled\n",
    "\n",
    "print(\"Images total:\", len(data_balanced))"
   ]
  },
  {
   "cell_type": "markdown",
   "id": "8943d2a8",
   "metadata": {},
   "source": [
    "## Nouvel entrainement avec les nouvelles données"
   ]
  },
  {
   "cell_type": "code",
   "execution_count": 21,
   "id": "7a07addd",
   "metadata": {
    "scrolled": false
   },
   "outputs": [
    {
     "name": "stdout",
     "output_type": "stream",
     "text": [
      "Iteration 1, loss = 11.51025139\n",
      "Iteration 2, loss = 8.11138265\n",
      "Iteration 3, loss = 7.13452865\n",
      "Iteration 4, loss = 6.73476512\n",
      "Iteration 5, loss = 6.37609302\n",
      "Iteration 6, loss = 6.02086626\n",
      "Iteration 7, loss = 5.68452975\n",
      "Iteration 8, loss = 5.38669675\n",
      "Iteration 9, loss = 5.12950438\n",
      "Iteration 10, loss = 4.89337990\n",
      "Iteration 11, loss = 4.66471559\n",
      "Iteration 12, loss = 4.45699056\n"
     ]
    },
    {
     "name": "stderr",
     "output_type": "stream",
     "text": [
      "c:\\users\\jorouss\\documents\\ia\\projet recapp\\recapp_environnement\\lib\\site-packages\\sklearn\\neural_network\\_multilayer_perceptron.py:617: ConvergenceWarning: Stochastic Optimizer: Maximum iterations (12) reached and the optimization hasn't converged yet.\n",
      "  % self.max_iter, ConvergenceWarning)\n"
     ]
    },
    {
     "data": {
      "text/plain": [
       "<sklearn.metrics._plot.confusion_matrix.ConfusionMatrixDisplay at 0x2172d2cf0b8>"
      ]
     },
     "execution_count": 21,
     "metadata": {},
     "output_type": "execute_result"
    },
    {
     "data": {
      "image/png": "[encoded data removed]",
      "text/plain": [
       "<Figure size 432x288 with 1 Axes>"
      ]
     },
     "metadata": {
      "needs_background": "light"
     },
     "output_type": "display_data"
    },
    {
     "data": {
      "image/png": "[encoded data removed]",
      "text/plain": [
       "<Figure size 432x288 with 2 Axes>"
      ]
     },
     "metadata": {
      "needs_background": "light"
     },
     "output_type": "display_data"
    }
   ],
   "source": [
    "from sklearn.neural_network import MLPClassifier\n",
    "import sklearn.metrics as metrics\n",
    "import pandas as pd\n",
    "\n",
    "nn = MLPClassifier(random_state=42, hidden_layer_sizes=(50,25), learning_rate_init=0.0000003, max_iter=12, verbose=2)\n",
    "\n",
    "nn.fit(data_balanced, labels_balanced)\n",
    "\n",
    "pd.DataFrame(nn.loss_curve_)[3:].plot()\n",
    "\n",
    "metrics.plot_confusion_matrix(nn, data, labels)"
   ]
  },
  {
   "cell_type": "markdown",
   "id": "72ddca33",
   "metadata": {},
   "source": [
    "# Améliorations"
   ]
  },
  {
   "cell_type": "code",
   "execution_count": 28,
   "id": "6da90890",
   "metadata": {},
   "outputs": [
    {
     "name": "stdout",
     "output_type": "stream",
     "text": [
      "Iteration 1, loss = 10.59828825\n",
      "Iteration 2, loss = 6.52103268\n",
      "Iteration 3, loss = 5.20414205\n",
      "Iteration 4, loss = 4.14016007\n",
      "Iteration 5, loss = 3.53830468\n",
      "Iteration 6, loss = 3.12113365\n",
      "Iteration 7, loss = 2.73762655\n",
      "Iteration 8, loss = 2.49730169\n",
      "Iteration 9, loss = 2.30628524\n",
      "Iteration 10, loss = 2.12712548\n",
      "Iteration 11, loss = 1.97283930\n",
      "Iteration 12, loss = 1.83012550\n",
      "Iteration 13, loss = 1.68906667\n",
      "Iteration 14, loss = 1.58940450\n",
      "Iteration 15, loss = 1.49016576\n",
      "Iteration 16, loss = 1.39963303\n",
      "Iteration 17, loss = 1.32429849\n",
      "Iteration 18, loss = 1.25556290\n",
      "Iteration 19, loss = 1.19091310\n",
      "Iteration 20, loss = 1.13208484\n",
      "Iteration 21, loss = 1.07222806\n",
      "Iteration 22, loss = 1.02155641\n",
      "Iteration 23, loss = 0.97367549\n",
      "Iteration 24, loss = 0.92721227\n",
      "Iteration 25, loss = 0.88180573\n",
      "Iteration 26, loss = 0.84980822\n",
      "Iteration 27, loss = 0.81082711\n",
      "Iteration 28, loss = 0.77806247\n",
      "Iteration 29, loss = 0.74569505\n",
      "Iteration 30, loss = 0.71376355\n",
      "Iteration 31, loss = 0.68612689\n",
      "Iteration 32, loss = 0.66003878\n",
      "Iteration 33, loss = 0.63682528\n",
      "Iteration 34, loss = 0.61538638\n",
      "Iteration 35, loss = 0.59537787\n",
      "Iteration 36, loss = 0.57491692\n",
      "Iteration 37, loss = 0.55561414\n",
      "Iteration 38, loss = 0.54010410\n",
      "Iteration 39, loss = 0.51839935\n",
      "Iteration 40, loss = 0.50368746\n"
     ]
    },
    {
     "name": "stderr",
     "output_type": "stream",
     "text": [
      "c:\\users\\jorouss\\documents\\ia\\projet recapp\\recapp_environnement\\lib\\site-packages\\sklearn\\neural_network\\_multilayer_perceptron.py:617: ConvergenceWarning: Stochastic Optimizer: Maximum iterations (40) reached and the optimization hasn't converged yet.\n",
      "  % self.max_iter, ConvergenceWarning)\n"
     ]
    },
    {
     "data": {
      "text/plain": [
       "<sklearn.metrics._plot.confusion_matrix.ConfusionMatrixDisplay at 0x21743ea2710>"
      ]
     },
     "execution_count": 28,
     "metadata": {},
     "output_type": "execute_result"
    },
    {
     "data": {
      "image/png": "[encoded data removed]",
      "text/plain": [
       "<Figure size 432x288 with 1 Axes>"
      ]
     },
     "metadata": {
      "needs_background": "light"
     },
     "output_type": "display_data"
    },
    {
     "data": {
      "image/png": "[encoded data removed]",
      "text/plain": [
       "<Figure size 432x288 with 2 Axes>"
      ]
     },
     "metadata": {
      "needs_background": "light"
     },
     "output_type": "display_data"
    }
   ],
   "source": [
    "from sklearn.neural_network import MLPClassifier\n",
    "import sklearn.metrics as metrics\n",
    "import pandas as pd\n",
    "\n",
    "nn = MLPClassifier(random_state=42, hidden_layer_sizes=(50,25), learning_rate_init=0.00005, max_iter=40, verbose=2, batch_size=5000)\n",
    "\n",
    "nn.fit(data_balanced, labels_balanced)\n",
    "\n",
    "pd.DataFrame(nn.loss_curve_)[3:].plot()\n",
    "metrics.plot_confusion_matrix(nn, data_balanced, labels_balanced)"
   ]
  },
  {
   "cell_type": "markdown",
   "id": "d7820048",
   "metadata": {},
   "source": [
    "# Validation"
   ]
  },
  {
   "cell_type": "code",
   "execution_count": 30,
   "id": "0d026418",
   "metadata": {},
   "outputs": [],
   "source": [
    "from sklearn.model_selection import train_test_split\n",
    "\n",
    "train_data, test_data, train_labels, test_labels = train_test_split(data_balanced, labels_balanced, random_state=42)"
   ]
  },
  {
   "cell_type": "code",
   "execution_count": 31,
   "id": "0c8768a8",
   "metadata": {},
   "outputs": [
    {
     "name": "stdout",
     "output_type": "stream",
     "text": [
      "Iteration 1, loss = 11.11848792\n",
      "Iteration 2, loss = 6.53828939\n",
      "Iteration 3, loss = 5.07830277\n",
      "Iteration 4, loss = 4.02703795\n",
      "Iteration 5, loss = 3.44358437\n",
      "Iteration 6, loss = 2.99715840\n",
      "Iteration 7, loss = 2.79842896\n",
      "Iteration 8, loss = 2.52898015\n",
      "Iteration 9, loss = 2.28637185\n",
      "Iteration 10, loss = 2.13027094\n",
      "Iteration 11, loss = 1.96834475\n",
      "Iteration 12, loss = 1.80110118\n",
      "Iteration 13, loss = 1.68608153\n",
      "Iteration 14, loss = 1.56554913\n",
      "Iteration 15, loss = 1.44585991\n",
      "Iteration 16, loss = 1.35160148\n",
      "Iteration 17, loss = 1.27856743\n",
      "Iteration 18, loss = 1.20653879\n",
      "Iteration 19, loss = 1.14790636\n",
      "Iteration 20, loss = 1.09603772\n",
      "Iteration 21, loss = 1.02935681\n",
      "Iteration 22, loss = 0.97522606\n",
      "Iteration 23, loss = 0.93218262\n",
      "Iteration 24, loss = 0.89203489\n",
      "Iteration 25, loss = 0.85498442\n",
      "Iteration 26, loss = 0.82104552\n",
      "Iteration 27, loss = 0.78725084\n",
      "Iteration 28, loss = 0.76115407\n",
      "Iteration 29, loss = 0.73157084\n",
      "Iteration 30, loss = 0.69958708\n",
      "Iteration 31, loss = 0.68118932\n",
      "Iteration 32, loss = 0.64983562\n",
      "Iteration 33, loss = 0.62743705\n",
      "Iteration 34, loss = 0.60482237\n",
      "Iteration 35, loss = 0.58423701\n",
      "Iteration 36, loss = 0.56227416\n",
      "Iteration 37, loss = 0.54437371\n",
      "Iteration 38, loss = 0.52697625\n",
      "Iteration 39, loss = 0.50593672\n",
      "Iteration 40, loss = 0.50193509\n"
     ]
    },
    {
     "name": "stderr",
     "output_type": "stream",
     "text": [
      "c:\\users\\jorouss\\documents\\ia\\projet recapp\\recapp_environnement\\lib\\site-packages\\sklearn\\neural_network\\_multilayer_perceptron.py:617: ConvergenceWarning: Stochastic Optimizer: Maximum iterations (40) reached and the optimization hasn't converged yet.\n",
      "  % self.max_iter, ConvergenceWarning)\n"
     ]
    },
    {
     "data": {
      "text/plain": [
       "<sklearn.metrics._plot.confusion_matrix.ConfusionMatrixDisplay at 0x21743facf28>"
      ]
     },
     "execution_count": 31,
     "metadata": {},
     "output_type": "execute_result"
    },
    {
     "data": {
      "image/png": "[encoded data removed]",
      "text/plain": [
       "<Figure size 432x288 with 1 Axes>"
      ]
     },
     "metadata": {
      "needs_background": "light"
     },
     "output_type": "display_data"
    },
    {
     "data": {
      "image/png": "[encoded data removed]",
      "text/plain": [
       "<Figure size 432x288 with 2 Axes>"
      ]
     },
     "metadata": {
      "needs_background": "light"
     },
     "output_type": "display_data"
    },
    {
     "data": {
      "image/png": "[encoded data removed]",
      "text/plain": [
       "<Figure size 432x288 with 2 Axes>"
      ]
     },
     "metadata": {
      "needs_background": "light"
     },
     "output_type": "display_data"
    }
   ],
   "source": [
    "from sklearn.neural_network import MLPClassifier\n",
    "import sklearn.metrics as metrics\n",
    "import pandas as pd\n",
    "\n",
    "nn = MLPClassifier(random_state=42, hidden_layer_sizes=(50,25), learning_rate_init=0.00005, max_iter=40, verbose=2, batch_size=5000)\n",
    "\n",
    "nn.fit(train_data, train_labels)\n",
    "\n",
    "pd.DataFrame(nn.loss_curve_)[3:].plot()\n",
    "metrics.plot_confusion_matrix(nn, train_data, train_labels)\n",
    "metrics.plot_confusion_matrix(nn, test_data, test_labels)"
   ]
  },
  {
   "cell_type": "code",
   "execution_count": null,
   "id": "0e85953f",
   "metadata": {},
   "outputs": [],
   "source": []
  }
 ],
 "metadata": {
  "kernelspec": {
   "display_name": "Python 3",
   "language": "python",
   "name": "python3"
  },
  "language_info": {
   "codemirror_mode": {
    "name": "ipython",
    "version": 3
   },
   "file_extension": ".py",
   "mimetype": "text/x-python",
   "name": "python",
   "nbconvert_exporter": "python",
   "pygments_lexer": "ipython3",
   "version": "3.6.8"
  }
 },
 "nbformat": 4,
 "nbformat_minor": 5
}
